{
  "nbformat": 4,
  "nbformat_minor": 0,
  "metadata": {
    "colab": {
      "provenance": [],
      "authorship_tag": "ABX9TyNup5pku3z0kHHxov3JDR7p",
      "include_colab_link": true
    },
    "kernelspec": {
      "name": "python3",
      "display_name": "Python 3"
    },
    "language_info": {
      "name": "python"
    }
  },
  "cells": [
    {
      "cell_type": "markdown",
      "metadata": {
        "id": "view-in-github",
        "colab_type": "text"
      },
      "source": [
        "<a href=\"https://colab.research.google.com/github/fasya2005/alpro/blob/main/looping.ipynb\" target=\"_parent\"><img src=\"https://colab.research.google.com/assets/colab-badge.svg\" alt=\"Open In Colab\"/></a>"
      ]
    },
    {
      "cell_type": "code",
      "execution_count": 1,
      "metadata": {
        "colab": {
          "base_uri": "https://localhost:8080/"
        },
        "id": "DsWm0M-YvwtJ",
        "outputId": "35b22ff9-1a9b-42f3-a8b8-9b693dbc7f52"
      },
      "outputs": [
        {
          "output_type": "stream",
          "name": "stdout",
          "text": [
            "1\n",
            "2\n",
            "3\n",
            "4\n",
            "5\n"
          ]
        }
      ],
      "source": [
        "i = 1\n",
        "while i < 6:\n",
        "  print(i)\n",
        "  i += 1"
      ]
    },
    {
      "cell_type": "code",
      "source": [
        "i = 1\n",
        "while i < 6:\n",
        "  print(i)\n",
        "  if i == 3:\n",
        "    break\n",
        "  i += 1"
      ],
      "metadata": {
        "colab": {
          "base_uri": "https://localhost:8080/"
        },
        "id": "UZdVV29sv439",
        "outputId": "df23954b-4ad4-4b22-afe4-e434b7ab4636"
      },
      "execution_count": 2,
      "outputs": [
        {
          "output_type": "stream",
          "name": "stdout",
          "text": [
            "1\n",
            "2\n",
            "3\n"
          ]
        }
      ]
    },
    {
      "cell_type": "code",
      "source": [
        "i = 0\n",
        "while i < 6:\n",
        "  i += 1\n",
        "  if i == 3:\n",
        "    continue\n",
        "  print(i)"
      ],
      "metadata": {
        "colab": {
          "base_uri": "https://localhost:8080/"
        },
        "id": "YiPDvrgUv4vc",
        "outputId": "cc17b779-1001-4f25-f1fc-41f3edaed2ee"
      },
      "execution_count": 3,
      "outputs": [
        {
          "output_type": "stream",
          "name": "stdout",
          "text": [
            "1\n",
            "2\n",
            "4\n",
            "5\n",
            "6\n"
          ]
        }
      ]
    },
    {
      "cell_type": "code",
      "source": [
        "i = 1\n",
        "while i < 6:\n",
        "  print(i)\n",
        "  i += 1\n",
        "else:\n",
        "  print(\"i tidak lagi kurang dari 6\")"
      ],
      "metadata": {
        "colab": {
          "base_uri": "https://localhost:8080/"
        },
        "id": "4wuUup4Rv4sU",
        "outputId": "9b30478e-83cf-4b50-a21b-22500fa7c42b"
      },
      "execution_count": 4,
      "outputs": [
        {
          "output_type": "stream",
          "name": "stdout",
          "text": [
            "1\n",
            "2\n",
            "3\n",
            "4\n",
            "5\n",
            "i tidak lagi kurang dari 6\n"
          ]
        }
      ]
    },
    {
      "cell_type": "code",
      "source": [
        "topik = [\"Kinematika\", \"Mekanika\", \"Termodinamika\"]\n",
        "for x in topik:\n",
        "  print(x)"
      ],
      "metadata": {
        "colab": {
          "base_uri": "https://localhost:8080/"
        },
        "id": "hrjw3rFXv4or",
        "outputId": "86a345fb-164e-4126-8ff6-f1965a89369f"
      },
      "execution_count": 5,
      "outputs": [
        {
          "output_type": "stream",
          "name": "stdout",
          "text": [
            "Kinematika\n",
            "Mekanika\n",
            "Termodinamika\n"
          ]
        }
      ]
    },
    {
      "cell_type": "code",
      "source": [
        "for x in \"Kinematika\":\n",
        "  print(x)"
      ],
      "metadata": {
        "colab": {
          "base_uri": "https://localhost:8080/"
        },
        "id": "97VehUAHv4hl",
        "outputId": "199ebc46-4c4b-4f88-c7f6-980cfd7e2d05"
      },
      "execution_count": 6,
      "outputs": [
        {
          "output_type": "stream",
          "name": "stdout",
          "text": [
            "K\n",
            "i\n",
            "n\n",
            "e\n",
            "m\n",
            "a\n",
            "t\n",
            "i\n",
            "k\n",
            "a\n"
          ]
        }
      ]
    },
    {
      "cell_type": "code",
      "source": [
        "topik = [\"Kinematika\", \"Mekanika\", \"Termodinamika\"]\n",
        "for x in topik:\n",
        "  print(x)\n",
        "  if x == \"Mekanika\":\n",
        "    break"
      ],
      "metadata": {
        "colab": {
          "base_uri": "https://localhost:8080/"
        },
        "id": "keZw6IX4v4Xb",
        "outputId": "92196360-ef1f-400b-f96b-a5ace2a6efcc"
      },
      "execution_count": 7,
      "outputs": [
        {
          "output_type": "stream",
          "name": "stdout",
          "text": [
            "Kinematika\n",
            "Mekanika\n"
          ]
        }
      ]
    },
    {
      "cell_type": "code",
      "source": [
        "topik = [\"Kinematika\", \"Mekanika\", \"Termodinamika\"]\n",
        "for x in topik:\n",
        "  if x == \"Mekanika\":\n",
        "    break\n",
        "  print(x)"
      ],
      "metadata": {
        "colab": {
          "base_uri": "https://localhost:8080/"
        },
        "id": "pcJRYm6ev4Iz",
        "outputId": "626b0eda-9ff7-41f2-9585-64dcf25398a3"
      },
      "execution_count": 8,
      "outputs": [
        {
          "output_type": "stream",
          "name": "stdout",
          "text": [
            "Kinematika\n"
          ]
        }
      ]
    },
    {
      "cell_type": "code",
      "source": [
        "topik = [\"Kinematika\", \"Mekanika\", \"Termodinamika\"]\n",
        "for x in topik:\n",
        "  if x == \"Mekanika\":\n",
        "    continue\n",
        "  print(x)"
      ],
      "metadata": {
        "colab": {
          "base_uri": "https://localhost:8080/"
        },
        "id": "-Y7m3qauv34G",
        "outputId": "8aee8fe7-93de-4c78-e37c-38a086d14ebc"
      },
      "execution_count": 9,
      "outputs": [
        {
          "output_type": "stream",
          "name": "stdout",
          "text": [
            "Kinematika\n",
            "Termodinamika\n"
          ]
        }
      ]
    },
    {
      "cell_type": "code",
      "source": [
        "for x in range(6):\n",
        "  print(x)"
      ],
      "metadata": {
        "colab": {
          "base_uri": "https://localhost:8080/"
        },
        "id": "xmM9r-JLv6cT",
        "outputId": "2a869b15-bc04-4325-e7f0-bf0c0660736d"
      },
      "execution_count": 10,
      "outputs": [
        {
          "output_type": "stream",
          "name": "stdout",
          "text": [
            "0\n",
            "1\n",
            "2\n",
            "3\n",
            "4\n",
            "5\n"
          ]
        }
      ]
    },
    {
      "cell_type": "code",
      "source": [
        "for x in range(2, 6):\n",
        "  print(x)"
      ],
      "metadata": {
        "colab": {
          "base_uri": "https://localhost:8080/"
        },
        "id": "Q3QasSJqv6Oc",
        "outputId": "6f2f380b-2ad6-4c2c-bb9c-9f06ea4e1901"
      },
      "execution_count": 11,
      "outputs": [
        {
          "output_type": "stream",
          "name": "stdout",
          "text": [
            "2\n",
            "3\n",
            "4\n",
            "5\n"
          ]
        }
      ]
    },
    {
      "cell_type": "code",
      "source": [
        "for x in range(2, 30, 3):\n",
        "  print(x)"
      ],
      "metadata": {
        "colab": {
          "base_uri": "https://localhost:8080/"
        },
        "id": "cK_E50ApwRKU",
        "outputId": "68752a85-6d7f-49b5-89d1-18017252abd0"
      },
      "execution_count": 12,
      "outputs": [
        {
          "output_type": "stream",
          "name": "stdout",
          "text": [
            "2\n",
            "5\n",
            "8\n",
            "11\n",
            "14\n",
            "17\n",
            "20\n",
            "23\n",
            "26\n",
            "29\n"
          ]
        }
      ]
    },
    {
      "cell_type": "code",
      "source": [
        "for x in range(6):\n",
        "  print(x)\n",
        "else:\n",
        "  print(\"Program Selesai!\")"
      ],
      "metadata": {
        "colab": {
          "base_uri": "https://localhost:8080/"
        },
        "id": "qC9IS1bDwRDc",
        "outputId": "f6c6d841-d727-484d-dc57-5d27276ed014"
      },
      "execution_count": 13,
      "outputs": [
        {
          "output_type": "stream",
          "name": "stdout",
          "text": [
            "0\n",
            "1\n",
            "2\n",
            "3\n",
            "4\n",
            "5\n",
            "Program Selesai!\n"
          ]
        }
      ]
    },
    {
      "cell_type": "code",
      "source": [
        "for x in range(6):\n",
        "  if x == 3:\n",
        "    break\n",
        "  print(x)\n",
        "else:\n",
        "  print(\"Program Selesai!\")"
      ],
      "metadata": {
        "colab": {
          "base_uri": "https://localhost:8080/"
        },
        "id": "FV2LHSxAwg78",
        "outputId": "8da65f8a-6d6e-4f50-ad55-5a0d8e73f3cc"
      },
      "execution_count": 14,
      "outputs": [
        {
          "output_type": "stream",
          "name": "stdout",
          "text": [
            "0\n",
            "1\n",
            "2\n"
          ]
        }
      ]
    },
    {
      "cell_type": "code",
      "source": [
        "Level = [\"Mudah\", \"Medium\", \"Sulit\"]\n",
        "Topik = [\"Kinematika\", \"Mekanika\", \"Termodinamika\"]\n",
        "for x in Level:\n",
        "  for y in Topik:\n",
        "    print(x, y)"
      ],
      "metadata": {
        "colab": {
          "base_uri": "https://localhost:8080/"
        },
        "id": "reP5OU2-wgrr",
        "outputId": "59a7e659-d4e2-42c8-d514-f7b389f6f40f"
      },
      "execution_count": 15,
      "outputs": [
        {
          "output_type": "stream",
          "name": "stdout",
          "text": [
            "Mudah Kinematika\n",
            "Mudah Mekanika\n",
            "Mudah Termodinamika\n",
            "Medium Kinematika\n",
            "Medium Mekanika\n",
            "Medium Termodinamika\n",
            "Sulit Kinematika\n",
            "Sulit Mekanika\n",
            "Sulit Termodinamika\n"
          ]
        }
      ]
    },
    {
      "cell_type": "code",
      "source": [
        "for x in [0, 1, 2]:\n",
        "  pass"
      ],
      "metadata": {
        "id": "TP8N6tkPwgjL"
      },
      "execution_count": 16,
      "outputs": []
    }
  ]
}